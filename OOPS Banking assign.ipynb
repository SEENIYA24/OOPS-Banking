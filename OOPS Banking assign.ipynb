{
 "cells": [
  {
   "cell_type": "code",
   "execution_count": null,
   "id": "909887ff-8ccb-4c90-a87c-f0ea98a0f783",
   "metadata": {},
   "outputs": [],
   "source": [
    "#OOPS Banking"
   ]
  },
  {
   "cell_type": "code",
   "execution_count": null,
   "id": "47123f5a-02ce-4746-8ca3-dafe28c4d055",
   "metadata": {},
   "outputs": [],
   "source": [
    "Dear Students,\n",
    "We have covered core python, now it's time to test your coding and logical skills, also to know how confident you are with the syntax, i'm giving you a small project:\n",
    "Write a python program to replicate a Banking system. The following features are mandatory:\n",
    "1. Account login\n",
    "2. Amount Depositing\n",
    "3. Amount Withdrawal\n",
    "Other than the above features you can add any other also"
   ]
  },
  {
   "cell_type": "code",
   "execution_count": 1,
   "id": "b77f9b86-85f1-47fc-a315-cd27559ed78a",
   "metadata": {},
   "outputs": [
    {
     "name": "stdout",
     "output_type": "stream",
     "text": [
      "\n",
      "=== Welcome to Python Banking System ===\n",
      "1. Login\n",
      "2. Deposit\n",
      "3. Withdraw\n",
      "4. Check Balance\n",
      "5. Logout\n",
      "6. Exit\n"
     ]
    },
    {
     "name": "stdin",
     "output_type": "stream",
     "text": [
      "\n",
      "Enter your choice (1-6):  1001\n"
     ]
    },
    {
     "name": "stdout",
     "output_type": "stream",
     "text": [
      "Invalid choice! Please try again.\n",
      "\n",
      "=== Welcome to Python Banking System ===\n",
      "1. Login\n",
      "2. Deposit\n",
      "3. Withdraw\n",
      "4. Check Balance\n",
      "5. Logout\n",
      "6. Exit\n"
     ]
    },
    {
     "name": "stdin",
     "output_type": "stream",
     "text": [
      "\n",
      "Enter your choice (1-6):  1\n",
      "Enter account number:  1001\n",
      "Enter PIN:  1234\n"
     ]
    },
    {
     "name": "stdout",
     "output_type": "stream",
     "text": [
      "Welcome John Doe!\n",
      "\n",
      "=== Welcome to Python Banking System ===\n",
      "1. Login\n",
      "2. Deposit\n",
      "3. Withdraw\n",
      "4. Check Balance\n",
      "5. Logout\n",
      "6. Exit\n"
     ]
    },
    {
     "name": "stdin",
     "output_type": "stream",
     "text": [
      "\n",
      "Enter your choice (1-6):  2\n",
      "Enter amount to deposit: $ 1000\n"
     ]
    },
    {
     "name": "stdout",
     "output_type": "stream",
     "text": [
      "Successfully deposited $1000.0. New balance: $2000.0\n",
      "\n",
      "=== Welcome to Python Banking System ===\n",
      "1. Login\n",
      "2. Deposit\n",
      "3. Withdraw\n",
      "4. Check Balance\n",
      "5. Logout\n",
      "6. Exit\n"
     ]
    },
    {
     "name": "stdin",
     "output_type": "stream",
     "text": [
      "\n",
      "Enter your choice (1-6):  3\n",
      "Enter amount to withdraw: $ 500\n"
     ]
    },
    {
     "name": "stdout",
     "output_type": "stream",
     "text": [
      "Successfully withdrew $500.0. New balance: $1500.0\n",
      "\n",
      "=== Welcome to Python Banking System ===\n",
      "1. Login\n",
      "2. Deposit\n",
      "3. Withdraw\n",
      "4. Check Balance\n",
      "5. Logout\n",
      "6. Exit\n"
     ]
    },
    {
     "name": "stdin",
     "output_type": "stream",
     "text": [
      "\n",
      "Enter your choice (1-6):  4\n"
     ]
    },
    {
     "name": "stdout",
     "output_type": "stream",
     "text": [
      "Current balance: $1500.0\n",
      "\n",
      "=== Welcome to Python Banking System ===\n",
      "1. Login\n",
      "2. Deposit\n",
      "3. Withdraw\n",
      "4. Check Balance\n",
      "5. Logout\n",
      "6. Exit\n"
     ]
    },
    {
     "name": "stdin",
     "output_type": "stream",
     "text": [
      "\n",
      "Enter your choice (1-6):  5\n"
     ]
    },
    {
     "name": "stdout",
     "output_type": "stream",
     "text": [
      "Logged out successfully\n",
      "\n",
      "=== Welcome to Python Banking System ===\n",
      "1. Login\n",
      "2. Deposit\n",
      "3. Withdraw\n",
      "4. Check Balance\n",
      "5. Logout\n",
      "6. Exit\n"
     ]
    },
    {
     "name": "stdin",
     "output_type": "stream",
     "text": [
      "\n",
      "Enter your choice (1-6):  6\n"
     ]
    },
    {
     "name": "stdout",
     "output_type": "stream",
     "text": [
      "Thank you for using Python Banking System!\n"
     ]
    }
   ],
   "source": [
    "class BankAccount:\n",
    "    def __init__(self):\n",
    "        # Initialize with some dummy accounts for demonstration\n",
    "        self.accounts = {\n",
    "            '1001': {'pin': '1234', 'balance': 1000, 'name': 'John Doe'},\n",
    "            '1002': {'pin': '5678', 'balance': 2000, 'name': 'Jane Smith'}\n",
    "        }\n",
    "        self.current_user = None\n",
    "\n",
    "    def login(self, account_number, pin):\n",
    "        \"\"\"Authenticate user with account number and PIN\"\"\"\n",
    "        if account_number in self.accounts and self.accounts[account_number]['pin'] == pin:\n",
    "            self.current_user = account_number\n",
    "            return True\n",
    "        return False\n",
    "\n",
    "    def deposit(self, amount):\n",
    "        \"\"\"Deposit money into the current account\"\"\"\n",
    "        if not self.current_user:\n",
    "            return \"Please login first\"\n",
    "        if amount <= 0:\n",
    "            return \"Invalid amount\"\n",
    "        \n",
    "        self.accounts[self.current_user]['balance'] += amount\n",
    "        return f\"Successfully deposited ${amount}. New balance: ${self.get_balance()}\"\n",
    "\n",
    "    def withdraw(self, amount):\n",
    "        \"\"\"Withdraw money from the current account\"\"\"\n",
    "        if not self.current_user:\n",
    "            return \"Please login first\"\n",
    "        if amount <= 0:\n",
    "            return \"Invalid amount\"\n",
    "        if amount > self.accounts[self.current_user]['balance']:\n",
    "            return \"Insufficient funds\"\n",
    "        \n",
    "        self.accounts[self.current_user]['balance'] -= amount\n",
    "        return f\"Successfully withdrew ${amount}. New balance: ${self.get_balance()}\"\n",
    "\n",
    "    def get_balance(self):\n",
    "        \"\"\"Check current balance\"\"\"\n",
    "        if not self.current_user:\n",
    "            return \"Please login first\"\n",
    "        return self.accounts[self.current_user]['balance']\n",
    "\n",
    "    def logout(self):\n",
    "        \"\"\"Logout current user\"\"\"\n",
    "        self.current_user = None\n",
    "        return \"Logged out successfully\"\n",
    "\n",
    "\n",
    "def main():\n",
    "    bank = BankAccount()\n",
    "    \n",
    "    while True:\n",
    "        print(\"\\n=== Welcome to Python Banking System ===\")\n",
    "        print(\"1. Login\")\n",
    "        print(\"2. Deposit\")\n",
    "        print(\"3. Withdraw\")\n",
    "        print(\"4. Check Balance\")\n",
    "        print(\"5. Logout\")\n",
    "        print(\"6. Exit\")\n",
    "        \n",
    "        choice = input(\"\\nEnter your choice (1-6): \")\n",
    "        \n",
    "        if choice == '1':\n",
    "            if bank.current_user:\n",
    "                print(\"Already logged in!\")\n",
    "                continue\n",
    "                \n",
    "            acc_no = input(\"Enter account number: \")\n",
    "            pin = input(\"Enter PIN: \")\n",
    "            \n",
    "            if bank.login(acc_no, pin):\n",
    "                print(f\"Welcome {bank.accounts[acc_no]['name']}!\")\n",
    "            else:\n",
    "                print(\"Invalid account number or PIN\")\n",
    "                \n",
    "        elif choice == '2':\n",
    "            try:\n",
    "                amount = float(input(\"Enter amount to deposit: $\"))\n",
    "                print(bank.deposit(amount))\n",
    "            except ValueError:\n",
    "                print(\"Invalid amount\")\n",
    "                \n",
    "        elif choice == '3':\n",
    "            try:\n",
    "                amount = float(input(\"Enter amount to withdraw: $\"))\n",
    "                print(bank.withdraw(amount))\n",
    "            except ValueError:\n",
    "                print(\"Invalid amount\")\n",
    "                \n",
    "        elif choice == '4':\n",
    "            balance = bank.get_balance()\n",
    "            if isinstance(balance, (int, float)):\n",
    "                print(f\"Current balance: ${balance}\")\n",
    "            else:\n",
    "                print(balance)\n",
    "                \n",
    "        elif choice == '5':\n",
    "            print(bank.logout())\n",
    "            \n",
    "        elif choice == '6':\n",
    "            print(\"Thank you for using Python Banking System!\")\n",
    "            break\n",
    "            \n",
    "        else:\n",
    "            print(\"Invalid choice! Please try again.\")\n",
    "\n",
    "\n",
    "if __name__ == \"__main__\":\n",
    "    main()"
   ]
  },
  {
   "cell_type": "code",
   "execution_count": null,
   "id": "959c9598-67d4-488a-b567-46807f33cbb2",
   "metadata": {},
   "outputs": [],
   "source": []
  }
 ],
 "metadata": {
  "kernelspec": {
   "display_name": "Python 3 (ipykernel)",
   "language": "python",
   "name": "python3"
  },
  "language_info": {
   "codemirror_mode": {
    "name": "ipython",
    "version": 3
   },
   "file_extension": ".py",
   "mimetype": "text/x-python",
   "name": "python",
   "nbconvert_exporter": "python",
   "pygments_lexer": "ipython3",
   "version": "3.12.4"
  }
 },
 "nbformat": 4,
 "nbformat_minor": 5
}
